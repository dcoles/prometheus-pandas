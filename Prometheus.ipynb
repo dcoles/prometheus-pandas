{
 "cells": [
  {
   "cell_type": "markdown",
   "metadata": {},
   "source": [
    "# Prometheus workbook\n",
    "\n",
    "In addition to the Python API, this library also provides several Magics to help integrate with [Jupyter](https://jupyter.org/) workbooks."
   ]
  },
  {
   "cell_type": "code",
   "execution_count": 1,
   "metadata": {},
   "outputs": [],
   "source": [
    "%matplotlib inline\n",
    "import prometheus_pandas.ipython.magic"
   ]
  },
  {
   "cell_type": "markdown",
   "metadata": {},
   "source": [
    "## Instant queries\n",
    "\n",
    "The `%%prometheus_query` cell Magic allows evaluating instant query at a single point in time. Depending on the query, it may return a vector (`pd.Series`), matrix (`pd.DataFrame`), scalar (`np.float64`) or string (`str`).\n",
    "\n",
    "### Usage\n",
    "```\n",
    "%%prometheus_query prometheus_url [-t|--time <rfc3339 | unix_timestamp>] [-T|--timeout <duration>] [output]\n",
    "    instant_query\n",
    "```"
   ]
  },
  {
   "cell_type": "code",
   "execution_count": 2,
   "metadata": {},
   "outputs": [
    {
     "data": {
      "text/plain": [
       "{cpu=\"0\",instance=\"localhost:9100\",job=\"node\",mode=\"user\"}     0.013111\n",
       "{cpu=\"1\",instance=\"localhost:9100\",job=\"node\",mode=\"user\"}     0.025333\n",
       "{cpu=\"10\",instance=\"localhost:9100\",job=\"node\",mode=\"user\"}    0.022222\n",
       "{cpu=\"11\",instance=\"localhost:9100\",job=\"node\",mode=\"user\"}    0.055556\n",
       "{cpu=\"12\",instance=\"localhost:9100\",job=\"node\",mode=\"user\"}    0.013111\n",
       "{cpu=\"13\",instance=\"localhost:9100\",job=\"node\",mode=\"user\"}    0.011778\n",
       "{cpu=\"14\",instance=\"localhost:9100\",job=\"node\",mode=\"user\"}    0.014667\n",
       "{cpu=\"15\",instance=\"localhost:9100\",job=\"node\",mode=\"user\"}    0.012000\n",
       "{cpu=\"2\",instance=\"localhost:9100\",job=\"node\",mode=\"user\"}     0.016889\n",
       "{cpu=\"3\",instance=\"localhost:9100\",job=\"node\",mode=\"user\"}     0.025111\n",
       "{cpu=\"4\",instance=\"localhost:9100\",job=\"node\",mode=\"user\"}     0.012444\n",
       "{cpu=\"5\",instance=\"localhost:9100\",job=\"node\",mode=\"user\"}     0.015778\n",
       "{cpu=\"6\",instance=\"localhost:9100\",job=\"node\",mode=\"user\"}     0.015556\n",
       "{cpu=\"7\",instance=\"localhost:9100\",job=\"node\",mode=\"user\"}     0.016444\n",
       "{cpu=\"8\",instance=\"localhost:9100\",job=\"node\",mode=\"user\"}     0.017333\n",
       "{cpu=\"9\",instance=\"localhost:9100\",job=\"node\",mode=\"user\"}     0.027778\n",
       "dtype: float64"
      ]
     },
     "execution_count": 2,
     "metadata": {},
     "output_type": "execute_result"
    }
   ],
   "source": [
    "%%prometheus_query http://localhost:9090\n",
    "    rate(node_cpu_seconds_total{mode=\"user\"}[1m])"
   ]
  },
  {
   "cell_type": "markdown",
   "metadata": {},
   "source": [
    "## Range queries\n",
    "\n",
    "The `%%prometheus_query_range` cell Magic allows evaluating expression query over a range of time. It always returns a matrix (`pd.DataFrame`).\n",
    "\n",
    "### Usage\n",
    "```\n",
    "%%prometheus_query_range prometheus_url start end step [-T|--timeout <duration>] [output]\n",
    "    range_query\n",
    "```"
   ]
  },
  {
   "cell_type": "code",
   "execution_count": 3,
   "metadata": {},
   "outputs": [
    {
     "data": {
      "text/html": [
       "<div>\n",
       "<style scoped>\n",
       "    .dataframe tbody tr th:only-of-type {\n",
       "        vertical-align: middle;\n",
       "    }\n",
       "\n",
       "    .dataframe tbody tr th {\n",
       "        vertical-align: top;\n",
       "    }\n",
       "\n",
       "    .dataframe thead th {\n",
       "        text-align: right;\n",
       "    }\n",
       "</style>\n",
       "<table border=\"1\" class=\"dataframe\">\n",
       "  <thead>\n",
       "    <tr style=\"text-align: right;\">\n",
       "      <th></th>\n",
       "      <th>{cpu=\"0\",instance=\"localhost:9100\",job=\"node\",mode=\"user\"}</th>\n",
       "    </tr>\n",
       "  </thead>\n",
       "  <tbody>\n",
       "    <tr>\n",
       "      <th>2021-01-20 00:00:00</th>\n",
       "      <td>0.013111</td>\n",
       "    </tr>\n",
       "    <tr>\n",
       "      <th>2021-01-20 01:00:00</th>\n",
       "      <td>0.012444</td>\n",
       "    </tr>\n",
       "    <tr>\n",
       "      <th>2021-01-20 02:00:00</th>\n",
       "      <td>0.012000</td>\n",
       "    </tr>\n",
       "    <tr>\n",
       "      <th>2021-01-20 03:00:00</th>\n",
       "      <td>0.020222</td>\n",
       "    </tr>\n",
       "    <tr>\n",
       "      <th>2021-01-20 04:00:00</th>\n",
       "      <td>0.024222</td>\n",
       "    </tr>\n",
       "    <tr>\n",
       "      <th>2021-01-20 05:00:00</th>\n",
       "      <td>0.011111</td>\n",
       "    </tr>\n",
       "    <tr>\n",
       "      <th>2021-01-20 06:00:00</th>\n",
       "      <td>0.016000</td>\n",
       "    </tr>\n",
       "    <tr>\n",
       "      <th>2021-01-20 07:00:00</th>\n",
       "      <td>0.012000</td>\n",
       "    </tr>\n",
       "    <tr>\n",
       "      <th>2021-01-20 08:00:00</th>\n",
       "      <td>0.018444</td>\n",
       "    </tr>\n",
       "    <tr>\n",
       "      <th>2021-01-20 09:00:00</th>\n",
       "      <td>0.014667</td>\n",
       "    </tr>\n",
       "    <tr>\n",
       "      <th>2021-01-20 10:00:00</th>\n",
       "      <td>0.022444</td>\n",
       "    </tr>\n",
       "    <tr>\n",
       "      <th>2021-01-20 11:00:00</th>\n",
       "      <td>0.011778</td>\n",
       "    </tr>\n",
       "    <tr>\n",
       "      <th>2021-01-20 12:00:00</th>\n",
       "      <td>0.015111</td>\n",
       "    </tr>\n",
       "    <tr>\n",
       "      <th>2021-01-20 13:00:00</th>\n",
       "      <td>0.016444</td>\n",
       "    </tr>\n",
       "    <tr>\n",
       "      <th>2021-01-20 14:00:00</th>\n",
       "      <td>0.011778</td>\n",
       "    </tr>\n",
       "    <tr>\n",
       "      <th>2021-01-20 15:00:00</th>\n",
       "      <td>0.014222</td>\n",
       "    </tr>\n",
       "    <tr>\n",
       "      <th>2021-01-20 16:00:00</th>\n",
       "      <td>0.012222</td>\n",
       "    </tr>\n",
       "    <tr>\n",
       "      <th>2021-01-20 17:00:00</th>\n",
       "      <td>0.016444</td>\n",
       "    </tr>\n",
       "    <tr>\n",
       "      <th>2021-01-20 18:00:00</th>\n",
       "      <td>0.020889</td>\n",
       "    </tr>\n",
       "    <tr>\n",
       "      <th>2021-01-20 19:00:00</th>\n",
       "      <td>0.020667</td>\n",
       "    </tr>\n",
       "    <tr>\n",
       "      <th>2021-01-20 20:00:00</th>\n",
       "      <td>0.017556</td>\n",
       "    </tr>\n",
       "    <tr>\n",
       "      <th>2021-01-20 21:00:00</th>\n",
       "      <td>0.015778</td>\n",
       "    </tr>\n",
       "    <tr>\n",
       "      <th>2021-01-20 22:00:00</th>\n",
       "      <td>0.015333</td>\n",
       "    </tr>\n",
       "    <tr>\n",
       "      <th>2021-01-20 23:00:00</th>\n",
       "      <td>0.021111</td>\n",
       "    </tr>\n",
       "    <tr>\n",
       "      <th>2021-01-21 00:00:00</th>\n",
       "      <td>0.016000</td>\n",
       "    </tr>\n",
       "  </tbody>\n",
       "</table>\n",
       "</div>"
      ],
      "text/plain": [
       "                     {cpu=\"0\",instance=\"localhost:9100\",job=\"node\",mode=\"user\"}\n",
       "2021-01-20 00:00:00                                           0.013111         \n",
       "2021-01-20 01:00:00                                           0.012444         \n",
       "2021-01-20 02:00:00                                           0.012000         \n",
       "2021-01-20 03:00:00                                           0.020222         \n",
       "2021-01-20 04:00:00                                           0.024222         \n",
       "2021-01-20 05:00:00                                           0.011111         \n",
       "2021-01-20 06:00:00                                           0.016000         \n",
       "2021-01-20 07:00:00                                           0.012000         \n",
       "2021-01-20 08:00:00                                           0.018444         \n",
       "2021-01-20 09:00:00                                           0.014667         \n",
       "2021-01-20 10:00:00                                           0.022444         \n",
       "2021-01-20 11:00:00                                           0.011778         \n",
       "2021-01-20 12:00:00                                           0.015111         \n",
       "2021-01-20 13:00:00                                           0.016444         \n",
       "2021-01-20 14:00:00                                           0.011778         \n",
       "2021-01-20 15:00:00                                           0.014222         \n",
       "2021-01-20 16:00:00                                           0.012222         \n",
       "2021-01-20 17:00:00                                           0.016444         \n",
       "2021-01-20 18:00:00                                           0.020889         \n",
       "2021-01-20 19:00:00                                           0.020667         \n",
       "2021-01-20 20:00:00                                           0.017556         \n",
       "2021-01-20 21:00:00                                           0.015778         \n",
       "2021-01-20 22:00:00                                           0.015333         \n",
       "2021-01-20 23:00:00                                           0.021111         \n",
       "2021-01-21 00:00:00                                           0.016000         "
      ]
     },
     "execution_count": 3,
     "metadata": {},
     "output_type": "execute_result"
    }
   ],
   "source": [
    "%%prometheus_query_range http://localhost:9090 2021-01-20T00:00:00Z 2021-01-21T00:00:00Z 1h\n",
    "    rate(node_cpu_seconds_total{mode=\"user\",cpu=\"0\"}[1m])"
   ]
  },
  {
   "cell_type": "markdown",
   "metadata": {},
   "source": [
    "If the `output` parameter is provided then the results will be assigned to a variable of that name."
   ]
  },
  {
   "cell_type": "code",
   "execution_count": 4,
   "metadata": {
    "scrolled": true
   },
   "outputs": [],
   "source": [
    "%%prometheus_query_range http://localhost:9090 2021-01-20T00:00:00Z 2021-01-21T00:00:00Z 1m data\n",
    "    sum by(mode) (rate(node_cpu_seconds_total{mode=~\"user|system\"}[1m]))"
   ]
  },
  {
   "cell_type": "code",
   "execution_count": 5,
   "metadata": {
    "scrolled": true
   },
   "outputs": [
    {
     "data": {
      "text/plain": [
       "<AxesSubplot:>"
      ]
     },
     "execution_count": 5,
     "metadata": {},
     "output_type": "execute_result"
    },
    {
     "data": {
      "image/png": "[encoded data removed]",
      "text/plain": [
       "<Figure size 432x288 with 1 Axes>"
      ]
     },
     "metadata": {
      "needs_background": "light"
     },
     "output_type": "display_data"
    }
   ],
   "source": [
    "data.plot()"
   ]
  },
  {
   "cell_type": "markdown",
   "metadata": {},
   "source": [
    "The `%%prometheus_query_range_now` function is like `query_range` except that it's relative to the current time. It's useful for building real-time graphs."
   ]
  },
  {
   "cell_type": "code",
   "execution_count": 6,
   "metadata": {},
   "outputs": [],
   "source": [
    "%%prometheus_query_range_now http://localhost:9090 12h 1m data\n",
    "    sum by(mode) (rate(node_cpu_seconds_total{mode=~\"user|system\"}[1m]))"
   ]
  },
  {
   "cell_type": "code",
   "execution_count": 7,
   "metadata": {},
   "outputs": [
    {
     "data": {
      "text/plain": [
       "<AxesSubplot:>"
      ]
     },
     "execution_count": 7,
     "metadata": {},
     "output_type": "execute_result"
    },
    {
     "data": {
      "image/png": "[encoded data removed]",
      "text/plain": [
       "<Figure size 432x288 with 1 Axes>"
      ]
     },
     "metadata": {
      "needs_background": "light"
     },
     "output_type": "display_data"
    }
   ],
   "source": [
    "data.plot()"
   ]
  },
  {
   "cell_type": "markdown",
   "metadata": {},
   "source": [
    "For more details see the documentation on Prometheus' [HTTP API](https://prometheus.io/docs/prometheus/latest/querying/api/)."
   ]
  }
 ],
 "metadata": {
  "kernelspec": {
   "display_name": "Python 3",
   "language": "python",
   "name": "python3"
  },
  "language_info": {
   "codemirror_mode": {
    "name": "ipython",
    "version": 3
   },
   "file_extension": ".py",
   "mimetype": "text/x-python",
   "name": "python",
   "nbconvert_exporter": "python",
   "pygments_lexer": "ipython3",
   "version": "3.8.6"
  }
 },
 "nbformat": 4,
 "nbformat_minor": 2
}
